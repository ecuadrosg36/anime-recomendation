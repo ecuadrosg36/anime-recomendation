{
 "cells": [
  {
   "cell_type": "markdown",
   "id": "81c4c44d",
   "metadata": {},
   "source": [
    "# 01 — EDA y Preprocesamiento (MAL 2020)\n",
    "\n",
    "Este cuaderno carga los **CSV** del dataset *Anime Recommendation Database 2020* de Kaggle (o desde disco), \n",
    "normaliza columnas, deriva `rating_complete` cuando no está disponible, y guarda derivados en `data/processed/`."
   ]
  },
  {
   "cell_type": "code",
   "execution_count": 42,
   "id": "dc3ba4fd",
   "metadata": {},
   "outputs": [
    {
     "name": "stdout",
     "output_type": "stream",
     "text": [
      "Repo root: C:\\Users\\enman\\Downloads\\COLFONDOS\\DMC\\anime-recomendation\n"
     ]
    }
   ],
   "source": [
    "# Rutas y utilidades de importación\n",
    "import sys\n",
    "from pathlib import Path\n",
    "repo_root = Path().resolve().parent if Path.cwd().name == \"notebooks\" else Path().resolve()\n",
    "sys.path.insert(0, str(repo_root))\n",
    "\n",
    "print(\"Repo root:\", repo_root)\n"
   ]
  },
  {
   "cell_type": "code",
   "execution_count": 43,
   "id": "dd05e883",
   "metadata": {},
   "outputs": [],
   "source": [
    "# Robust CSV loader with multiple fallbacks\n",
    "import io\n",
    "from pathlib import Path\n",
    "import polars as pl\n",
    "import pandas as pd\n",
    "\n",
    "def read_csv_robust(path: Path) -> pl.DataFrame:\n",
    "    # 1) Fast path: Polars UTF-8\n",
    "    try:\n",
    "        return pl.read_csv(path, infer_schema_length=0)\n",
    "    except Exception:\n",
    "        pass\n",
    "\n",
    "    # 2) Polars with 'utf8-lossy' (replaces invalid UTF-8 sequences)\n",
    "    try:\n",
    "        return pl.read_csv(path, infer_schema_length=0, encoding=\"utf8-lossy\")\n",
    "    except Exception:\n",
    "        pass\n",
    "\n",
    "    # 3) Manual decode of raw bytes with ISO-8859-1/latin1 (always succeeds) + Polars\n",
    "    raw = Path(path).read_bytes()\n",
    "    # choose 'replace' (keep length) or 'ignore' (drop bad bytes). Either avoids exceptions.\n",
    "    txt = raw.decode(\"latin1\", errors=\"replace\")\n",
    "    try:\n",
    "        return pl.read_csv(io.StringIO(txt), infer_schema_length=0)\n",
    "    except Exception:\n",
    "        # 4) Last resort: pandas python engine (no low_memory flag here!)\n",
    "        return pl.from_pandas(\n",
    "            pd.read_csv(io.StringIO(txt), engine=\"python\", on_bad_lines=\"skip\")\n",
    "        )\n"
   ]
  },
  {
   "cell_type": "code",
   "execution_count": 44,
   "id": "98435319",
   "metadata": {},
   "outputs": [],
   "source": [
    "import io, zipfile\n",
    "from pathlib import Path\n",
    "import polars as pl\n",
    "import pandas as pd\n",
    "import kagglehub\n",
    "\n",
    "DS = \"hernan4444/anime-recommendation-database-2020\"\n",
    "raw_dir = Path(\"data/raw/mal2020\")\n",
    "raw_dir.mkdir(parents=True, exist_ok=True)\n",
    "\n",
    "def _read_csv_from_bytes(raw: bytes) -> pl.DataFrame:\n",
    "    # 1) Polars UTF-8\n",
    "    try:\n",
    "        return pl.read_csv(io.BytesIO(raw), infer_schema_length=0)\n",
    "    except Exception:\n",
    "        pass\n",
    "    # 2) Polars con utf8-lossy\n",
    "    try:\n",
    "        return pl.read_csv(io.BytesIO(raw), infer_schema_length=0, encoding=\"utf8-lossy\")\n",
    "    except Exception:\n",
    "        pass\n",
    "    # 3) Decodificar a texto latin1 (siempre mapea) y volver a leer\n",
    "    txt = raw.decode(\"latin1\", errors=\"replace\")\n",
    "    try:\n",
    "        return pl.read_csv(io.StringIO(txt), infer_schema_length=0)\n",
    "    except Exception:\n",
    "        # 4) Último recurso: pandas (sin low_memory)\n",
    "        return pl.from_pandas(pd.read_csv(io.StringIO(txt), engine=\"python\", on_bad_lines=\"skip\"))\n",
    "\n",
    "def dl_and_read(fname: str, force=False) -> pl.DataFrame:\n",
    "    # bajar al caché local de kagglehub (puede ser ZIP aunque pidas .csv)\n",
    "    local_path = kagglehub.dataset_download(DS, path=fname, force_download=force)\n",
    "    p = Path(local_path)\n",
    "\n",
    "    if zipfile.is_zipfile(p):\n",
    "        # Abrir el zip y extraer el miembro que coincide con fname (o el primer .csv)\n",
    "        with zipfile.ZipFile(p) as z:\n",
    "            # buscar coincidencia exacta por nombre (ignora subcarpetas)\n",
    "            cands = [m for m in z.namelist() if Path(m).name.lower() == fname.lower()]\n",
    "            if not cands:\n",
    "                cands = [m for m in z.namelist() if m.lower().endswith(\".csv\")]\n",
    "            member = cands[0]\n",
    "            raw = z.read(member)\n",
    "            df = _read_csv_from_bytes(raw)\n",
    "    else:\n",
    "        raw = p.read_bytes()\n",
    "        df  = _read_csv_from_bytes(raw)\n",
    "\n",
    "    # cachear una copia “limpia” en tu proyecto para próximos runs\n",
    "    target = raw_dir / fname\n",
    "    target.parent.mkdir(parents=True, exist_ok=True)\n",
    "    df.write_csv(target)\n",
    "    return df\n"
   ]
  },
  {
   "cell_type": "code",
   "execution_count": 45,
   "id": "a61b8a5d",
   "metadata": {},
   "outputs": [
    {
     "name": "stdout",
     "output_type": "stream",
     "text": [
      "anime (17562, 35) ['MAL_ID', 'Name', 'Score', 'Genres', 'English name', 'Japanese name', 'Type', 'Episodes']\n",
      "shape: (2, 35)\n",
      "┌────────┬───────────────┬───────┬─────────────────────┬───┬─────────┬─────────┬─────────┬─────────┐\n",
      "│ MAL_ID ┆ Name          ┆ Score ┆ Genres              ┆ … ┆ Score-4 ┆ Score-3 ┆ Score-2 ┆ Score-1 │\n",
      "│ ---    ┆ ---           ┆ ---   ┆ ---                 ┆   ┆ ---     ┆ ---     ┆ ---     ┆ ---     │\n",
      "│ str    ┆ str           ┆ str   ┆ str                 ┆   ┆ str     ┆ str     ┆ str     ┆ str     │\n",
      "╞════════╪═══════════════╪═══════╪═════════════════════╪═══╪═════════╪═════════╪═════════╪═════════╡\n",
      "│ 1      ┆ Cowboy Bebop  ┆ 8.78  ┆ Action, Adventure,  ┆ … ┆ 3184.0  ┆ 1357.0  ┆ 741.0   ┆ 1580.0  │\n",
      "│        ┆               ┆       ┆ Comedy, Dra…        ┆   ┆         ┆         ┆         ┆         │\n",
      "│ 5      ┆ Cowboy Bebop: ┆ 8.39  ┆ Action, Drama,      ┆ … ┆ 577.0   ┆ 221.0   ┆ 109.0   ┆ 379.0   │\n",
      "│        ┆ Tengoku no    ┆       ┆ Mystery, Sci-Fi…    ┆   ┆         ┆         ┆         ┆         │\n",
      "│        ┆ Tobir…        ┆       ┆                     ┆   ┆         ┆         ┆         ┆         │\n",
      "└────────┴───────────────┴───────┴─────────────────────┴───┴─────────┴─────────┴─────────┴─────────┘\n",
      "animelist (109224747, 5) ['user_id', 'anime_id', 'rating', 'watching_status', 'watched_episodes']\n",
      "shape: (2, 5)\n",
      "┌─────────┬──────────┬────────┬─────────────────┬──────────────────┐\n",
      "│ user_id ┆ anime_id ┆ rating ┆ watching_status ┆ watched_episodes │\n",
      "│ ---     ┆ ---      ┆ ---    ┆ ---             ┆ ---              │\n",
      "│ str     ┆ str      ┆ str    ┆ str             ┆ str              │\n",
      "╞═════════╪══════════╪════════╪═════════════════╪══════════════════╡\n",
      "│ 0       ┆ 67       ┆ 9      ┆ 1               ┆ 1                │\n",
      "│ 0       ┆ 6702     ┆ 7      ┆ 1               ┆ 4                │\n",
      "└─────────┴──────────┴────────┴─────────────────┴──────────────────┘\n",
      "synopsis (16214, 5) ['MAL_ID', 'Name', 'Score', 'Genres', 'sypnopsis']\n",
      "shape: (2, 5)\n",
      "┌────────┬──────────────────────────┬───────┬─────────────────────────────────┬────────────────────┐\n",
      "│ MAL_ID ┆ Name                     ┆ Score ┆ Genres                          ┆ sypnopsis          │\n",
      "│ ---    ┆ ---                      ┆ ---   ┆ ---                             ┆ ---                │\n",
      "│ str    ┆ str                      ┆ str   ┆ str                             ┆ str                │\n",
      "╞════════╪══════════════════════════╪═══════╪═════════════════════════════════╪════════════════════╡\n",
      "│ 1      ┆ Cowboy Bebop             ┆ 8.78  ┆ Action, Adventure, Comedy, Dra… ┆ In the year 2071,  │\n",
      "│        ┆                          ┆       ┆                                 ┆ humanity has…      │\n",
      "│ 5      ┆ Cowboy Bebop: Tengoku no ┆ 8.39  ┆ Action, Drama, Mystery, Sci-Fi… ┆ other day, another │\n",
      "│        ┆ Tobir…                   ┆       ┆                                 ┆ bounty—such…       │\n",
      "└────────┴──────────────────────────┴───────┴─────────────────────────────────┴────────────────────┘\n"
     ]
    }
   ],
   "source": [
    "anime     = dl_and_read(\"anime.csv\", force=False)\n",
    "animelist = dl_and_read(\"animelist.csv\", force=False)\n",
    "synopsis  = dl_and_read(\"anime_with_synopsis.csv\", force=False)\n",
    "\n",
    "for name, df in {\"anime\": anime, \"animelist\": animelist, \"synopsis\": synopsis}.items():\n",
    "    print(name, df.shape, df.columns[:8])\n",
    "    print(df.head(2))\n"
   ]
  }
 ],
 "metadata": {
  "kernelspec": {
   "display_name": "Python 3",
   "language": "python",
   "name": "python3"
  },
  "language_info": {
   "name": "python"
  }
 },
 "nbformat": 4,
 "nbformat_minor": 5
}
